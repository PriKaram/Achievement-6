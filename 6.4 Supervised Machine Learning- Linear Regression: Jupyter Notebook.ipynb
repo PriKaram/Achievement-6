{
 "cells": [
  {
   "cell_type": "markdown",
   "id": "362e8a09",
   "metadata": {},
   "source": [
    "## Task 6.4 Linear Regression\n"
   ]
  },
  {
   "cell_type": "markdown",
   "id": "874d986c",
   "metadata": {},
   "source": [
    "This script contains the following:\n",
    "\n",
    "1.  Importing libraries\n",
    "2.  Importing cleaned data\n",
    "3.  Data cleaning\n",
    "4.  Explore your data visually (e.g., by way of a scatterplot)\n",
    "5.  State research hypothesis\n",
    "6.  Reshape the variables into NumPy arrays, with X being the independent variable and y being the dependent variable.\n",
    "7.  Split the data into two sets: a training set and a test set.\n",
    "8.  Run a linear regression on the data\n",
    "9.  Create a plot that shows the regression line on the test set\n",
    "10. Interpretation of regression line\n",
    "11. Check the model performance statistics — MSE and R2 score\n",
    "12. Compare the predicted y values with the actual y values in a dataframe\n",
    "13. Interpretation on how model performed on test set"
   ]
  },
  {
   "cell_type": "markdown",
   "id": "8d4e93d7",
   "metadata": {},
   "source": [
    "## Importing libraries and Importing cleaned data"
   ]
  },
  {
   "cell_type": "code",
   "execution_count": 25,
   "id": "657403c5",
   "metadata": {},
   "outputs": [],
   "source": [
    "#Importing libraries\n",
    "\n",
    "import pandas as pd\n",
    "import numpy as np\n",
    "import os\n",
    "import seaborn as sns\n",
    "import matplotlib\n",
    "import matplotlib.pyplot as plt\n",
    "import sklearn\n",
    "from sklearn.model_selection import train_test_split\n",
    "from sklearn.linear_model import LinearRegression\n",
    "from sklearn.metrics import mean_squared_error, r2_score"
   ]
  },
  {
   "cell_type": "code",
   "execution_count": 26,
   "id": "e73e0bef",
   "metadata": {},
   "outputs": [],
   "source": [
    "#display visualizations\n",
    "\n",
    "%matplotlib inline"
   ]
  },
  {
   "cell_type": "code",
   "execution_count": 27,
   "id": "bde68506",
   "metadata": {},
   "outputs": [],
   "source": [
    "path = r'C:\\Users\\nikman\\Desktop\\CareerFoundry Project\\Achievement 6\\Tasks Achievement 6'"
   ]
  },
  {
   "cell_type": "code",
   "execution_count": 28,
   "id": "e28e6de3",
   "metadata": {},
   "outputs": [],
   "source": [
    "#importing dataframe\n",
    "\n",
    "df = pd.read_excel(os.path.join(path,'Cleaned Data Set.xlsx'),index_col = False)"
   ]
  },
  {
   "cell_type": "code",
   "execution_count": 29,
   "id": "71d09f82",
   "metadata": {},
   "outputs": [
    {
     "data": {
      "text/html": [
       "<div>\n",
       "<style scoped>\n",
       "    .dataframe tbody tr th:only-of-type {\n",
       "        vertical-align: middle;\n",
       "    }\n",
       "\n",
       "    .dataframe tbody tr th {\n",
       "        vertical-align: top;\n",
       "    }\n",
       "\n",
       "    .dataframe thead th {\n",
       "        text-align: right;\n",
       "    }\n",
       "</style>\n",
       "<table border=\"1\" class=\"dataframe\">\n",
       "  <thead>\n",
       "    <tr style=\"text-align: right;\">\n",
       "      <th></th>\n",
       "      <th>State</th>\n",
       "      <th>Sex</th>\n",
       "      <th>GeneralHealth</th>\n",
       "      <th>PhysicalHealthDays</th>\n",
       "      <th>MentalHealthDays</th>\n",
       "      <th>LastCheckupTime</th>\n",
       "      <th>PhysicalActivities</th>\n",
       "      <th>SleepHours</th>\n",
       "      <th>RemovedTeeth</th>\n",
       "      <th>HadHeartAttack</th>\n",
       "      <th>...</th>\n",
       "      <th>HeightInMeters</th>\n",
       "      <th>WeightInKilograms</th>\n",
       "      <th>BMI</th>\n",
       "      <th>AlcoholDrinkers</th>\n",
       "      <th>HIVTesting</th>\n",
       "      <th>FluVaxLast12</th>\n",
       "      <th>PneumoVaxEver</th>\n",
       "      <th>TetanusLast10Tdap</th>\n",
       "      <th>HighRiskLastYear</th>\n",
       "      <th>CovidPos</th>\n",
       "    </tr>\n",
       "  </thead>\n",
       "  <tbody>\n",
       "    <tr>\n",
       "      <th>0</th>\n",
       "      <td>Alabama</td>\n",
       "      <td>Female</td>\n",
       "      <td>Very good</td>\n",
       "      <td>4</td>\n",
       "      <td>0</td>\n",
       "      <td>Within past year (anytime less than 12 months ...</td>\n",
       "      <td>Yes</td>\n",
       "      <td>9</td>\n",
       "      <td>None of them</td>\n",
       "      <td>No</td>\n",
       "      <td>...</td>\n",
       "      <td>1.60</td>\n",
       "      <td>71.67</td>\n",
       "      <td>27.99</td>\n",
       "      <td>No</td>\n",
       "      <td>No</td>\n",
       "      <td>Yes</td>\n",
       "      <td>Yes</td>\n",
       "      <td>Yes, received Tdap</td>\n",
       "      <td>No</td>\n",
       "      <td>No</td>\n",
       "    </tr>\n",
       "    <tr>\n",
       "      <th>1</th>\n",
       "      <td>Alabama</td>\n",
       "      <td>Male</td>\n",
       "      <td>Very good</td>\n",
       "      <td>0</td>\n",
       "      <td>0</td>\n",
       "      <td>Within past year (anytime less than 12 months ...</td>\n",
       "      <td>Yes</td>\n",
       "      <td>6</td>\n",
       "      <td>None of them</td>\n",
       "      <td>No</td>\n",
       "      <td>...</td>\n",
       "      <td>1.78</td>\n",
       "      <td>95.25</td>\n",
       "      <td>30.13</td>\n",
       "      <td>No</td>\n",
       "      <td>No</td>\n",
       "      <td>Yes</td>\n",
       "      <td>Yes</td>\n",
       "      <td>Yes, received tetanus shot but not sure what type</td>\n",
       "      <td>No</td>\n",
       "      <td>No</td>\n",
       "    </tr>\n",
       "    <tr>\n",
       "      <th>2</th>\n",
       "      <td>Alabama</td>\n",
       "      <td>Male</td>\n",
       "      <td>Very good</td>\n",
       "      <td>0</td>\n",
       "      <td>0</td>\n",
       "      <td>Within past year (anytime less than 12 months ...</td>\n",
       "      <td>No</td>\n",
       "      <td>8</td>\n",
       "      <td>6 or more, but not all</td>\n",
       "      <td>No</td>\n",
       "      <td>...</td>\n",
       "      <td>1.85</td>\n",
       "      <td>108.86</td>\n",
       "      <td>31.66</td>\n",
       "      <td>Yes</td>\n",
       "      <td>No</td>\n",
       "      <td>No</td>\n",
       "      <td>Yes</td>\n",
       "      <td>No, did not receive any tetanus shot in the pa...</td>\n",
       "      <td>No</td>\n",
       "      <td>Yes</td>\n",
       "    </tr>\n",
       "    <tr>\n",
       "      <th>3</th>\n",
       "      <td>Alabama</td>\n",
       "      <td>Female</td>\n",
       "      <td>Fair</td>\n",
       "      <td>5</td>\n",
       "      <td>0</td>\n",
       "      <td>Within past year (anytime less than 12 months ...</td>\n",
       "      <td>Yes</td>\n",
       "      <td>9</td>\n",
       "      <td>None of them</td>\n",
       "      <td>No</td>\n",
       "      <td>...</td>\n",
       "      <td>1.70</td>\n",
       "      <td>90.72</td>\n",
       "      <td>31.32</td>\n",
       "      <td>No</td>\n",
       "      <td>No</td>\n",
       "      <td>Yes</td>\n",
       "      <td>Yes</td>\n",
       "      <td>No, did not receive any tetanus shot in the pa...</td>\n",
       "      <td>No</td>\n",
       "      <td>Yes</td>\n",
       "    </tr>\n",
       "    <tr>\n",
       "      <th>4</th>\n",
       "      <td>Alabama</td>\n",
       "      <td>Female</td>\n",
       "      <td>Good</td>\n",
       "      <td>3</td>\n",
       "      <td>15</td>\n",
       "      <td>Within past year (anytime less than 12 months ...</td>\n",
       "      <td>Yes</td>\n",
       "      <td>5</td>\n",
       "      <td>1 to 5</td>\n",
       "      <td>No</td>\n",
       "      <td>...</td>\n",
       "      <td>1.55</td>\n",
       "      <td>79.38</td>\n",
       "      <td>33.07</td>\n",
       "      <td>No</td>\n",
       "      <td>No</td>\n",
       "      <td>Yes</td>\n",
       "      <td>Yes</td>\n",
       "      <td>No, did not receive any tetanus shot in the pa...</td>\n",
       "      <td>No</td>\n",
       "      <td>No</td>\n",
       "    </tr>\n",
       "  </tbody>\n",
       "</table>\n",
       "<p>5 rows × 40 columns</p>\n",
       "</div>"
      ],
      "text/plain": [
       "     State     Sex GeneralHealth  PhysicalHealthDays  MentalHealthDays  \\\n",
       "0  Alabama  Female     Very good                   4                 0   \n",
       "1  Alabama    Male     Very good                   0                 0   \n",
       "2  Alabama    Male     Very good                   0                 0   \n",
       "3  Alabama  Female          Fair                   5                 0   \n",
       "4  Alabama  Female          Good                   3                15   \n",
       "\n",
       "                                     LastCheckupTime PhysicalActivities  \\\n",
       "0  Within past year (anytime less than 12 months ...                Yes   \n",
       "1  Within past year (anytime less than 12 months ...                Yes   \n",
       "2  Within past year (anytime less than 12 months ...                 No   \n",
       "3  Within past year (anytime less than 12 months ...                Yes   \n",
       "4  Within past year (anytime less than 12 months ...                Yes   \n",
       "\n",
       "   SleepHours            RemovedTeeth HadHeartAttack  ... HeightInMeters  \\\n",
       "0           9            None of them             No  ...           1.60   \n",
       "1           6            None of them             No  ...           1.78   \n",
       "2           8  6 or more, but not all             No  ...           1.85   \n",
       "3           9            None of them             No  ...           1.70   \n",
       "4           5                  1 to 5             No  ...           1.55   \n",
       "\n",
       "  WeightInKilograms    BMI AlcoholDrinkers HIVTesting FluVaxLast12  \\\n",
       "0             71.67  27.99              No         No          Yes   \n",
       "1             95.25  30.13              No         No          Yes   \n",
       "2            108.86  31.66             Yes         No           No   \n",
       "3             90.72  31.32              No         No          Yes   \n",
       "4             79.38  33.07              No         No          Yes   \n",
       "\n",
       "  PneumoVaxEver                                  TetanusLast10Tdap  \\\n",
       "0           Yes                                 Yes, received Tdap   \n",
       "1           Yes  Yes, received tetanus shot but not sure what type   \n",
       "2           Yes  No, did not receive any tetanus shot in the pa...   \n",
       "3           Yes  No, did not receive any tetanus shot in the pa...   \n",
       "4           Yes  No, did not receive any tetanus shot in the pa...   \n",
       "\n",
       "  HighRiskLastYear CovidPos  \n",
       "0               No       No  \n",
       "1               No       No  \n",
       "2               No      Yes  \n",
       "3               No      Yes  \n",
       "4               No       No  \n",
       "\n",
       "[5 rows x 40 columns]"
      ]
     },
     "execution_count": 29,
     "metadata": {},
     "output_type": "execute_result"
    }
   ],
   "source": [
    "df.head()"
   ]
  },
  {
   "cell_type": "code",
   "execution_count": 30,
   "id": "78f39ed5",
   "metadata": {},
   "outputs": [
    {
     "data": {
      "text/plain": [
       "(246022, 40)"
      ]
     },
     "execution_count": 30,
     "metadata": {},
     "output_type": "execute_result"
    }
   ],
   "source": [
    "df.shape"
   ]
  },
  {
   "cell_type": "markdown",
   "id": "97f3278d",
   "metadata": {},
   "source": [
    "## 3. Data Cleaning\n",
    "Checking for missing values\n",
    "\n",
    "Checking for duplicate values"
   ]
  },
  {
   "cell_type": "code",
   "execution_count": 31,
   "id": "32c65487",
   "metadata": {},
   "outputs": [
    {
     "data": {
      "text/plain": [
       "State                        0\n",
       "Sex                          0\n",
       "GeneralHealth                0\n",
       "PhysicalHealthDays           0\n",
       "MentalHealthDays             0\n",
       "LastCheckupTime              0\n",
       "PhysicalActivities           0\n",
       "SleepHours                   0\n",
       "RemovedTeeth                 0\n",
       "HadHeartAttack               0\n",
       "HadAngina                    0\n",
       "HadStroke                    0\n",
       "HadAsthma                    0\n",
       "HadSkinCancer                0\n",
       "HadCOPD                      0\n",
       "HadDepressiveDisorder        0\n",
       "HadKidneyDisease             0\n",
       "HadArthritis                 0\n",
       "HadDiabetes                  0\n",
       "DeafOrHardOfHearing          0\n",
       "BlindOrVisionDifficulty      0\n",
       "DifficultyConcentrating      0\n",
       "DifficultyWalking            0\n",
       "DifficultyDressingBathing    0\n",
       "DifficultyErrands            0\n",
       "SmokerStatus                 0\n",
       "ECigaretteUsage              0\n",
       "ChestScan                    0\n",
       "RaceEthnicityCategory        0\n",
       "AgeCategory                  0\n",
       "HeightInMeters               0\n",
       "WeightInKilograms            0\n",
       "BMI                          0\n",
       "AlcoholDrinkers              0\n",
       "HIVTesting                   0\n",
       "FluVaxLast12                 0\n",
       "PneumoVaxEver                0\n",
       "TetanusLast10Tdap            0\n",
       "HighRiskLastYear             0\n",
       "CovidPos                     0\n",
       "dtype: int64"
      ]
     },
     "execution_count": 31,
     "metadata": {},
     "output_type": "execute_result"
    }
   ],
   "source": [
    "# Checking for missing values\n",
    "df.isnull().sum()"
   ]
  },
  {
   "cell_type": "markdown",
   "id": "38d88270",
   "metadata": {},
   "source": [
    "## There are no missing values"
   ]
  },
  {
   "cell_type": "code",
   "execution_count": 32,
   "id": "81b2e112",
   "metadata": {},
   "outputs": [],
   "source": [
    "# duplicate values\n",
    "\n",
    "dups = df.duplicated()"
   ]
  },
  {
   "cell_type": "code",
   "execution_count": 33,
   "id": "f76ffe7e",
   "metadata": {},
   "outputs": [
    {
     "data": {
      "text/plain": [
       "(246022,)"
      ]
     },
     "execution_count": 33,
     "metadata": {},
     "output_type": "execute_result"
    }
   ],
   "source": [
    "dups.shape"
   ]
  },
  {
   "cell_type": "markdown",
   "id": "97ccf7ee",
   "metadata": {},
   "source": [
    "## There are no duplicate records"
   ]
  },
  {
   "cell_type": "code",
   "execution_count": 34,
   "id": "b6d28336",
   "metadata": {},
   "outputs": [
    {
     "name": "stderr",
     "output_type": "stream",
     "text": [
      "C:\\Users\\nikman\\AppData\\Local\\Temp\\ipykernel_22516\\3310469293.py:3: UserWarning: \n",
      "\n",
      "`distplot` is a deprecated function and will be removed in seaborn v0.14.0.\n",
      "\n",
      "Please adapt your code to use either `displot` (a figure-level function with\n",
      "similar flexibility) or `histplot` (an axes-level function for histograms).\n",
      "\n",
      "For a guide to updating your code to use the new functions, please see\n",
      "https://gist.github.com/mwaskom/de44147ed2974457ad6372750bbe5751\n",
      "\n",
      "  sns.distplot(df['BMI'], bins = 25)\n",
      "C:\\Users\\nikman\\AppData\\Local\\anaconda3\\Lib\\site-packages\\seaborn\\_oldcore.py:1119: FutureWarning: use_inf_as_na option is deprecated and will be removed in a future version. Convert inf values to NaN before operating instead.\n",
      "  with pd.option_context('mode.use_inf_as_na', True):\n"
     ]
    },
    {
     "data": {
      "text/plain": [
       "<Axes: xlabel='BMI', ylabel='Density'>"
      ]
     },
     "execution_count": 34,
     "metadata": {},
     "output_type": "execute_result"
    },
    {
     "data": {
      "image/png": "[encoded data removed]",
      "text/plain": [
       "<Figure size 640x480 with 1 Axes>"
      ]
     },
     "metadata": {},
     "output_type": "display_data"
    }
   ],
   "source": [
    "# Check for extreme values\n",
    "\n",
    "sns.distplot(df['BMI'], bins = 25)"
   ]
  },
  {
   "cell_type": "code",
   "execution_count": 35,
   "id": "0fb6f15c",
   "metadata": {},
   "outputs": [
    {
     "data": {
      "text/html": [
       "<div>\n",
       "<style scoped>\n",
       "    .dataframe tbody tr th:only-of-type {\n",
       "        vertical-align: middle;\n",
       "    }\n",
       "\n",
       "    .dataframe tbody tr th {\n",
       "        vertical-align: top;\n",
       "    }\n",
       "\n",
       "    .dataframe thead th {\n",
       "        text-align: right;\n",
       "    }\n",
       "</style>\n",
       "<table border=\"1\" class=\"dataframe\">\n",
       "  <thead>\n",
       "    <tr style=\"text-align: right;\">\n",
       "      <th></th>\n",
       "      <th>State</th>\n",
       "      <th>Sex</th>\n",
       "      <th>GeneralHealth</th>\n",
       "      <th>PhysicalHealthDays</th>\n",
       "      <th>MentalHealthDays</th>\n",
       "      <th>LastCheckupTime</th>\n",
       "      <th>PhysicalActivities</th>\n",
       "      <th>SleepHours</th>\n",
       "      <th>RemovedTeeth</th>\n",
       "      <th>HadHeartAttack</th>\n",
       "      <th>...</th>\n",
       "      <th>HeightInMeters</th>\n",
       "      <th>WeightInKilograms</th>\n",
       "      <th>BMI</th>\n",
       "      <th>AlcoholDrinkers</th>\n",
       "      <th>HIVTesting</th>\n",
       "      <th>FluVaxLast12</th>\n",
       "      <th>PneumoVaxEver</th>\n",
       "      <th>TetanusLast10Tdap</th>\n",
       "      <th>HighRiskLastYear</th>\n",
       "      <th>CovidPos</th>\n",
       "    </tr>\n",
       "  </thead>\n",
       "  <tbody>\n",
       "    <tr>\n",
       "      <th>246</th>\n",
       "      <td>Alabama</td>\n",
       "      <td>Female</td>\n",
       "      <td>Poor</td>\n",
       "      <td>30</td>\n",
       "      <td>30</td>\n",
       "      <td>Within past year (anytime less than 12 months ...</td>\n",
       "      <td>No</td>\n",
       "      <td>9</td>\n",
       "      <td>1 to 5</td>\n",
       "      <td>Yes</td>\n",
       "      <td>...</td>\n",
       "      <td>1.22</td>\n",
       "      <td>136.08</td>\n",
       "      <td>91.55</td>\n",
       "      <td>No</td>\n",
       "      <td>No</td>\n",
       "      <td>Yes</td>\n",
       "      <td>Yes</td>\n",
       "      <td>No, did not receive any tetanus shot in the pa...</td>\n",
       "      <td>No</td>\n",
       "      <td>No</td>\n",
       "    </tr>\n",
       "    <tr>\n",
       "      <th>3779</th>\n",
       "      <td>Alaska</td>\n",
       "      <td>Male</td>\n",
       "      <td>Fair</td>\n",
       "      <td>2</td>\n",
       "      <td>10</td>\n",
       "      <td>Within past year (anytime less than 12 months ...</td>\n",
       "      <td>No</td>\n",
       "      <td>7</td>\n",
       "      <td>None of them</td>\n",
       "      <td>No</td>\n",
       "      <td>...</td>\n",
       "      <td>1.78</td>\n",
       "      <td>249.48</td>\n",
       "      <td>78.92</td>\n",
       "      <td>Yes</td>\n",
       "      <td>Yes</td>\n",
       "      <td>Yes</td>\n",
       "      <td>No</td>\n",
       "      <td>Yes, received Tdap</td>\n",
       "      <td>No</td>\n",
       "      <td>No</td>\n",
       "    </tr>\n",
       "    <tr>\n",
       "      <th>6092</th>\n",
       "      <td>Arizona</td>\n",
       "      <td>Female</td>\n",
       "      <td>Very good</td>\n",
       "      <td>0</td>\n",
       "      <td>2</td>\n",
       "      <td>Within past year (anytime less than 12 months ...</td>\n",
       "      <td>Yes</td>\n",
       "      <td>7</td>\n",
       "      <td>1 to 5</td>\n",
       "      <td>No</td>\n",
       "      <td>...</td>\n",
       "      <td>1.65</td>\n",
       "      <td>250.00</td>\n",
       "      <td>91.72</td>\n",
       "      <td>Yes</td>\n",
       "      <td>Yes</td>\n",
       "      <td>No</td>\n",
       "      <td>Yes</td>\n",
       "      <td>Yes, received tetanus shot but not sure what type</td>\n",
       "      <td>No</td>\n",
       "      <td>No</td>\n",
       "    </tr>\n",
       "    <tr>\n",
       "      <th>7322</th>\n",
       "      <td>Arizona</td>\n",
       "      <td>Male</td>\n",
       "      <td>Good</td>\n",
       "      <td>0</td>\n",
       "      <td>0</td>\n",
       "      <td>Within past year (anytime less than 12 months ...</td>\n",
       "      <td>Yes</td>\n",
       "      <td>8</td>\n",
       "      <td>None of them</td>\n",
       "      <td>No</td>\n",
       "      <td>...</td>\n",
       "      <td>1.88</td>\n",
       "      <td>265.00</td>\n",
       "      <td>75.01</td>\n",
       "      <td>No</td>\n",
       "      <td>Yes</td>\n",
       "      <td>Yes</td>\n",
       "      <td>Yes</td>\n",
       "      <td>Yes, received Tdap</td>\n",
       "      <td>No</td>\n",
       "      <td>No</td>\n",
       "    </tr>\n",
       "    <tr>\n",
       "      <th>9060</th>\n",
       "      <td>Arizona</td>\n",
       "      <td>Male</td>\n",
       "      <td>Fair</td>\n",
       "      <td>15</td>\n",
       "      <td>15</td>\n",
       "      <td>Within past year (anytime less than 12 months ...</td>\n",
       "      <td>No</td>\n",
       "      <td>8</td>\n",
       "      <td>None of them</td>\n",
       "      <td>No</td>\n",
       "      <td>...</td>\n",
       "      <td>1.85</td>\n",
       "      <td>292.57</td>\n",
       "      <td>85.10</td>\n",
       "      <td>No</td>\n",
       "      <td>No</td>\n",
       "      <td>No</td>\n",
       "      <td>No</td>\n",
       "      <td>Yes, received Tdap</td>\n",
       "      <td>No</td>\n",
       "      <td>No</td>\n",
       "    </tr>\n",
       "    <tr>\n",
       "      <th>...</th>\n",
       "      <td>...</td>\n",
       "      <td>...</td>\n",
       "      <td>...</td>\n",
       "      <td>...</td>\n",
       "      <td>...</td>\n",
       "      <td>...</td>\n",
       "      <td>...</td>\n",
       "      <td>...</td>\n",
       "      <td>...</td>\n",
       "      <td>...</td>\n",
       "      <td>...</td>\n",
       "      <td>...</td>\n",
       "      <td>...</td>\n",
       "      <td>...</td>\n",
       "      <td>...</td>\n",
       "      <td>...</td>\n",
       "      <td>...</td>\n",
       "      <td>...</td>\n",
       "      <td>...</td>\n",
       "      <td>...</td>\n",
       "      <td>...</td>\n",
       "    </tr>\n",
       "    <tr>\n",
       "      <th>229249</th>\n",
       "      <td>West Virginia</td>\n",
       "      <td>Female</td>\n",
       "      <td>Good</td>\n",
       "      <td>3</td>\n",
       "      <td>0</td>\n",
       "      <td>Within past year (anytime less than 12 months ...</td>\n",
       "      <td>No</td>\n",
       "      <td>8</td>\n",
       "      <td>6 or more, but not all</td>\n",
       "      <td>No</td>\n",
       "      <td>...</td>\n",
       "      <td>1.47</td>\n",
       "      <td>158.76</td>\n",
       "      <td>73.15</td>\n",
       "      <td>No</td>\n",
       "      <td>No</td>\n",
       "      <td>No</td>\n",
       "      <td>No</td>\n",
       "      <td>Yes, received tetanus shot but not sure what type</td>\n",
       "      <td>No</td>\n",
       "      <td>Yes</td>\n",
       "    </tr>\n",
       "    <tr>\n",
       "      <th>230207</th>\n",
       "      <td>West Virginia</td>\n",
       "      <td>Female</td>\n",
       "      <td>Fair</td>\n",
       "      <td>0</td>\n",
       "      <td>27</td>\n",
       "      <td>Within past year (anytime less than 12 months ...</td>\n",
       "      <td>No</td>\n",
       "      <td>6</td>\n",
       "      <td>6 or more, but not all</td>\n",
       "      <td>Yes</td>\n",
       "      <td>...</td>\n",
       "      <td>1.60</td>\n",
       "      <td>181.44</td>\n",
       "      <td>70.86</td>\n",
       "      <td>Yes</td>\n",
       "      <td>Yes</td>\n",
       "      <td>No</td>\n",
       "      <td>Yes</td>\n",
       "      <td>No, did not receive any tetanus shot in the pa...</td>\n",
       "      <td>No</td>\n",
       "      <td>Yes</td>\n",
       "    </tr>\n",
       "    <tr>\n",
       "      <th>230930</th>\n",
       "      <td>West Virginia</td>\n",
       "      <td>Female</td>\n",
       "      <td>Poor</td>\n",
       "      <td>30</td>\n",
       "      <td>15</td>\n",
       "      <td>Within past year (anytime less than 12 months ...</td>\n",
       "      <td>No</td>\n",
       "      <td>7</td>\n",
       "      <td>1 to 5</td>\n",
       "      <td>No</td>\n",
       "      <td>...</td>\n",
       "      <td>1.63</td>\n",
       "      <td>217.27</td>\n",
       "      <td>82.22</td>\n",
       "      <td>No</td>\n",
       "      <td>Yes</td>\n",
       "      <td>No</td>\n",
       "      <td>No</td>\n",
       "      <td>Yes, received tetanus shot but not sure what type</td>\n",
       "      <td>No</td>\n",
       "      <td>Yes</td>\n",
       "    </tr>\n",
       "    <tr>\n",
       "      <th>235683</th>\n",
       "      <td>Wisconsin</td>\n",
       "      <td>Female</td>\n",
       "      <td>Fair</td>\n",
       "      <td>3</td>\n",
       "      <td>5</td>\n",
       "      <td>Within past year (anytime less than 12 months ...</td>\n",
       "      <td>No</td>\n",
       "      <td>10</td>\n",
       "      <td>1 to 5</td>\n",
       "      <td>No</td>\n",
       "      <td>...</td>\n",
       "      <td>1.70</td>\n",
       "      <td>246.30</td>\n",
       "      <td>85.04</td>\n",
       "      <td>No</td>\n",
       "      <td>Yes</td>\n",
       "      <td>Yes</td>\n",
       "      <td>Yes</td>\n",
       "      <td>Yes, received Tdap</td>\n",
       "      <td>No</td>\n",
       "      <td>No</td>\n",
       "    </tr>\n",
       "    <tr>\n",
       "      <th>240563</th>\n",
       "      <td>Guam</td>\n",
       "      <td>Female</td>\n",
       "      <td>Fair</td>\n",
       "      <td>0</td>\n",
       "      <td>0</td>\n",
       "      <td>Within past year (anytime less than 12 months ...</td>\n",
       "      <td>Yes</td>\n",
       "      <td>4</td>\n",
       "      <td>All</td>\n",
       "      <td>No</td>\n",
       "      <td>...</td>\n",
       "      <td>1.47</td>\n",
       "      <td>185.97</td>\n",
       "      <td>85.69</td>\n",
       "      <td>No</td>\n",
       "      <td>No</td>\n",
       "      <td>Yes</td>\n",
       "      <td>Yes</td>\n",
       "      <td>Yes, received Tdap</td>\n",
       "      <td>No</td>\n",
       "      <td>No</td>\n",
       "    </tr>\n",
       "  </tbody>\n",
       "</table>\n",
       "<p>112 rows × 40 columns</p>\n",
       "</div>"
      ],
      "text/plain": [
       "                State     Sex GeneralHealth  PhysicalHealthDays  \\\n",
       "246           Alabama  Female          Poor                  30   \n",
       "3779           Alaska    Male          Fair                   2   \n",
       "6092          Arizona  Female     Very good                   0   \n",
       "7322          Arizona    Male          Good                   0   \n",
       "9060          Arizona    Male          Fair                  15   \n",
       "...               ...     ...           ...                 ...   \n",
       "229249  West Virginia  Female          Good                   3   \n",
       "230207  West Virginia  Female          Fair                   0   \n",
       "230930  West Virginia  Female          Poor                  30   \n",
       "235683      Wisconsin  Female          Fair                   3   \n",
       "240563           Guam  Female          Fair                   0   \n",
       "\n",
       "        MentalHealthDays                                    LastCheckupTime  \\\n",
       "246                   30  Within past year (anytime less than 12 months ...   \n",
       "3779                  10  Within past year (anytime less than 12 months ...   \n",
       "6092                   2  Within past year (anytime less than 12 months ...   \n",
       "7322                   0  Within past year (anytime less than 12 months ...   \n",
       "9060                  15  Within past year (anytime less than 12 months ...   \n",
       "...                  ...                                                ...   \n",
       "229249                 0  Within past year (anytime less than 12 months ...   \n",
       "230207                27  Within past year (anytime less than 12 months ...   \n",
       "230930                15  Within past year (anytime less than 12 months ...   \n",
       "235683                 5  Within past year (anytime less than 12 months ...   \n",
       "240563                 0  Within past year (anytime less than 12 months ...   \n",
       "\n",
       "       PhysicalActivities  SleepHours            RemovedTeeth HadHeartAttack  \\\n",
       "246                    No           9                  1 to 5            Yes   \n",
       "3779                   No           7            None of them             No   \n",
       "6092                  Yes           7                  1 to 5             No   \n",
       "7322                  Yes           8            None of them             No   \n",
       "9060                   No           8            None of them             No   \n",
       "...                   ...         ...                     ...            ...   \n",
       "229249                 No           8  6 or more, but not all             No   \n",
       "230207                 No           6  6 or more, but not all            Yes   \n",
       "230930                 No           7                  1 to 5             No   \n",
       "235683                 No          10                  1 to 5             No   \n",
       "240563                Yes           4                     All             No   \n",
       "\n",
       "        ... HeightInMeters WeightInKilograms    BMI AlcoholDrinkers  \\\n",
       "246     ...           1.22            136.08  91.55              No   \n",
       "3779    ...           1.78            249.48  78.92             Yes   \n",
       "6092    ...           1.65            250.00  91.72             Yes   \n",
       "7322    ...           1.88            265.00  75.01              No   \n",
       "9060    ...           1.85            292.57  85.10              No   \n",
       "...     ...            ...               ...    ...             ...   \n",
       "229249  ...           1.47            158.76  73.15              No   \n",
       "230207  ...           1.60            181.44  70.86             Yes   \n",
       "230930  ...           1.63            217.27  82.22              No   \n",
       "235683  ...           1.70            246.30  85.04              No   \n",
       "240563  ...           1.47            185.97  85.69              No   \n",
       "\n",
       "       HIVTesting FluVaxLast12 PneumoVaxEver  \\\n",
       "246            No          Yes           Yes   \n",
       "3779          Yes          Yes            No   \n",
       "6092          Yes           No           Yes   \n",
       "7322          Yes          Yes           Yes   \n",
       "9060           No           No            No   \n",
       "...           ...          ...           ...   \n",
       "229249         No           No            No   \n",
       "230207        Yes           No           Yes   \n",
       "230930        Yes           No            No   \n",
       "235683        Yes          Yes           Yes   \n",
       "240563         No          Yes           Yes   \n",
       "\n",
       "                                        TetanusLast10Tdap HighRiskLastYear  \\\n",
       "246     No, did not receive any tetanus shot in the pa...               No   \n",
       "3779                                   Yes, received Tdap               No   \n",
       "6092    Yes, received tetanus shot but not sure what type               No   \n",
       "7322                                   Yes, received Tdap               No   \n",
       "9060                                   Yes, received Tdap               No   \n",
       "...                                                   ...              ...   \n",
       "229249  Yes, received tetanus shot but not sure what type               No   \n",
       "230207  No, did not receive any tetanus shot in the pa...               No   \n",
       "230930  Yes, received tetanus shot but not sure what type               No   \n",
       "235683                                 Yes, received Tdap               No   \n",
       "240563                                 Yes, received Tdap               No   \n",
       "\n",
       "       CovidPos  \n",
       "246          No  \n",
       "3779         No  \n",
       "6092         No  \n",
       "7322         No  \n",
       "9060         No  \n",
       "...         ...  \n",
       "229249      Yes  \n",
       "230207      Yes  \n",
       "230930      Yes  \n",
       "235683       No  \n",
       "240563       No  \n",
       "\n",
       "[112 rows x 40 columns]"
      ]
     },
     "execution_count": 35,
     "metadata": {},
     "output_type": "execute_result"
    }
   ],
   "source": [
    "# Check for how many extreme values\n",
    "\n",
    "df[df['BMI'] > 70]"
   ]
  },
  {
   "cell_type": "code",
   "execution_count": 36,
   "id": "d3e7ea98",
   "metadata": {},
   "outputs": [
    {
     "data": {
      "text/plain": [
       "count    246022.000000\n",
       "mean         28.668136\n",
       "std           6.513973\n",
       "min          12.020000\n",
       "25%          24.270000\n",
       "50%          27.460000\n",
       "75%          31.890000\n",
       "max          97.650000\n",
       "Name: BMI, dtype: float64"
      ]
     },
     "execution_count": 36,
     "metadata": {},
     "output_type": "execute_result"
    }
   ],
   "source": [
    "df['BMI'].describe()"
   ]
  },
  {
   "cell_type": "markdown",
   "id": "80e2d88f",
   "metadata": {},
   "source": [
    "##\n",
    "Mean: 28.66\n",
    "\n",
    "Median: 27.46\n",
    "\n",
    "Max: 97.65 \n",
    "\n"
   ]
  },
  {
   "cell_type": "markdown",
   "id": "0ba5e21e",
   "metadata": {},
   "source": [
    "## 4.Explore your data visually (e.g., by way of a scatterplot)"
   ]
  },
  {
   "cell_type": "code",
   "execution_count": 37,
   "id": "ca8279de",
   "metadata": {},
   "outputs": [
    {
     "data": {
      "image/png": "[encoded data removed]",
      "text/plain": [
       "<Figure size 640x480 with 1 Axes>"
      ]
     },
     "metadata": {},
     "output_type": "display_data"
    }
   ],
   "source": [
    "# Create a scatterplot using matplotlib for looking at how BMI and Weight plot against each other.\n",
    "\n",
    "df.plot(x = 'WeightInKilograms', y='BMI',style='o') # The style option creates a scatterplot; without it, we only have lines.\n",
    "plt.title('Weight vs BMI')  \n",
    "plt.xlabel('Weight In Kilograms')  \n",
    "plt.ylabel('BMI')  \n",
    "plt.show()"
   ]
  },
  {
   "cell_type": "markdown",
   "id": "52f9a613",
   "metadata": {},
   "source": [
    "### In our scatterplot analysis, we observe a positive correlation between the independent variable X (Weight) and the dependent variable y (BMI).To evaluate our hypothesis effectively, we will be conducting a linear regression analysis with Weight and BMI. \n",
    "\n",
    "### We also notice where Weight is relatively lower but BMI remains high. This observation suggests the other factors beyond just weight impacting BMI. "
   ]
  },
  {
   "cell_type": "markdown",
   "id": "b87f1536",
   "metadata": {},
   "source": [
    "## 5.State your hypothesis in a markdown cell within your Jupyter notebook.\n",
    "\n",
    "How does BMI correlate with the likelihood of heart disease, and what factors mediate or moderate this relationship?"
   ]
  },
  {
   "cell_type": "markdown",
   "id": "ffb32f35",
   "metadata": {},
   "source": [
    "## 6. Reshape variables with X as independent avriable and y as dependant variable"
   ]
  },
  {
   "cell_type": "code",
   "execution_count": 14,
   "id": "89456abd",
   "metadata": {},
   "outputs": [],
   "source": [
    "#Reshaping variables\n",
    "X = df['WeightInKilograms'].values.reshape(-1,1)\n",
    "y = df['BMI'].values.reshape(-1,1)"
   ]
  },
  {
   "cell_type": "code",
   "execution_count": 15,
   "id": "d4b85b1b",
   "metadata": {},
   "outputs": [
    {
     "data": {
      "text/plain": [
       "array([[ 71.67],\n",
       "       [ 95.25],\n",
       "       [108.86],\n",
       "       ...,\n",
       "       [ 83.91],\n",
       "       [ 83.01],\n",
       "       [108.86]])"
      ]
     },
     "execution_count": 15,
     "metadata": {},
     "output_type": "execute_result"
    }
   ],
   "source": [
    "X"
   ]
  },
  {
   "cell_type": "code",
   "execution_count": 16,
   "id": "824dba96",
   "metadata": {},
   "outputs": [
    {
     "data": {
      "text/plain": [
       "array([[27.99],\n",
       "       [30.13],\n",
       "       [31.66],\n",
       "       ...,\n",
       "       [29.86],\n",
       "       [28.66],\n",
       "       [32.55]])"
      ]
     },
     "execution_count": 16,
     "metadata": {},
     "output_type": "execute_result"
    }
   ],
   "source": [
    "y"
   ]
  },
  {
   "cell_type": "markdown",
   "id": "cb01aaf9",
   "metadata": {},
   "source": [
    "## 7.Split the data into two sets: a training set and a test set."
   ]
  },
  {
   "cell_type": "code",
   "execution_count": 17,
   "id": "a82b7999",
   "metadata": {},
   "outputs": [],
   "source": [
    "#Splitting the data into training and test set\n",
    "\n",
    "X_train, X_test, y_train, y_test = train_test_split(X, y, test_size = 0.3, random_state = 0)"
   ]
  },
  {
   "cell_type": "markdown",
   "id": "79005adf",
   "metadata": {},
   "source": [
    "## 8.Run a linear regression on the data"
   ]
  },
  {
   "cell_type": "markdown",
   "id": "0c257971",
   "metadata": {},
   "source": [
    "### Fit the model you created to the training set"
   ]
  },
  {
   "cell_type": "code",
   "execution_count": 18,
   "id": "30a1846b",
   "metadata": {},
   "outputs": [],
   "source": [
    "# Create a linear regression object\n",
    "\n",
    "regression = LinearRegression()"
   ]
  },
  {
   "cell_type": "code",
   "execution_count": 19,
   "id": "fdd185a9",
   "metadata": {},
   "outputs": [
    {
     "data": {
      "text/html": [
       "<style>#sk-container-id-1 {color: black;}#sk-container-id-1 pre{padding: 0;}#sk-container-id-1 div.sk-toggleable {background-color: white;}#sk-container-id-1 label.sk-toggleable__label {cursor: pointer;display: block;width: 100%;margin-bottom: 0;padding: 0.3em;box-sizing: border-box;text-align: center;}#sk-container-id-1 label.sk-toggleable__label-arrow:before {content: \"▸\";float: left;margin-right: 0.25em;color: #696969;}#sk-container-id-1 label.sk-toggleable__label-arrow:hover:before {color: black;}#sk-container-id-1 div.sk-estimator:hover label.sk-toggleable__label-arrow:before {color: black;}#sk-container-id-1 div.sk-toggleable__content {max-height: 0;max-width: 0;overflow: hidden;text-align: left;background-color: #f0f8ff;}#sk-container-id-1 div.sk-toggleable__content pre {margin: 0.2em;color: black;border-radius: 0.25em;background-color: #f0f8ff;}#sk-container-id-1 input.sk-toggleable__control:checked~div.sk-toggleable__content {max-height: 200px;max-width: 100%;overflow: auto;}#sk-container-id-1 input.sk-toggleable__control:checked~label.sk-toggleable__label-arrow:before {content: \"▾\";}#sk-container-id-1 div.sk-estimator input.sk-toggleable__control:checked~label.sk-toggleable__label {background-color: #d4ebff;}#sk-container-id-1 div.sk-label input.sk-toggleable__control:checked~label.sk-toggleable__label {background-color: #d4ebff;}#sk-container-id-1 input.sk-hidden--visually {border: 0;clip: rect(1px 1px 1px 1px);clip: rect(1px, 1px, 1px, 1px);height: 1px;margin: -1px;overflow: hidden;padding: 0;position: absolute;width: 1px;}#sk-container-id-1 div.sk-estimator {font-family: monospace;background-color: #f0f8ff;border: 1px dotted black;border-radius: 0.25em;box-sizing: border-box;margin-bottom: 0.5em;}#sk-container-id-1 div.sk-estimator:hover {background-color: #d4ebff;}#sk-container-id-1 div.sk-parallel-item::after {content: \"\";width: 100%;border-bottom: 1px solid gray;flex-grow: 1;}#sk-container-id-1 div.sk-label:hover label.sk-toggleable__label {background-color: #d4ebff;}#sk-container-id-1 div.sk-serial::before {content: \"\";position: absolute;border-left: 1px solid gray;box-sizing: border-box;top: 0;bottom: 0;left: 50%;z-index: 0;}#sk-container-id-1 div.sk-serial {display: flex;flex-direction: column;align-items: center;background-color: white;padding-right: 0.2em;padding-left: 0.2em;position: relative;}#sk-container-id-1 div.sk-item {position: relative;z-index: 1;}#sk-container-id-1 div.sk-parallel {display: flex;align-items: stretch;justify-content: center;background-color: white;position: relative;}#sk-container-id-1 div.sk-item::before, #sk-container-id-1 div.sk-parallel-item::before {content: \"\";position: absolute;border-left: 1px solid gray;box-sizing: border-box;top: 0;bottom: 0;left: 50%;z-index: -1;}#sk-container-id-1 div.sk-parallel-item {display: flex;flex-direction: column;z-index: 1;position: relative;background-color: white;}#sk-container-id-1 div.sk-parallel-item:first-child::after {align-self: flex-end;width: 50%;}#sk-container-id-1 div.sk-parallel-item:last-child::after {align-self: flex-start;width: 50%;}#sk-container-id-1 div.sk-parallel-item:only-child::after {width: 0;}#sk-container-id-1 div.sk-dashed-wrapped {border: 1px dashed gray;margin: 0 0.4em 0.5em 0.4em;box-sizing: border-box;padding-bottom: 0.4em;background-color: white;}#sk-container-id-1 div.sk-label label {font-family: monospace;font-weight: bold;display: inline-block;line-height: 1.2em;}#sk-container-id-1 div.sk-label-container {text-align: center;}#sk-container-id-1 div.sk-container {/* jupyter's `normalize.less` sets `[hidden] { display: none; }` but bootstrap.min.css set `[hidden] { display: none !important; }` so we also need the `!important` here to be able to override the default hidden behavior on the sphinx rendered scikit-learn.org. See: https://github.com/scikit-learn/scikit-learn/issues/21755 */display: inline-block !important;position: relative;}#sk-container-id-1 div.sk-text-repr-fallback {display: none;}</style><div id=\"sk-container-id-1\" class=\"sk-top-container\"><div class=\"sk-text-repr-fallback\"><pre>LinearRegression()</pre><b>In a Jupyter environment, please rerun this cell to show the HTML representation or trust the notebook. <br />On GitHub, the HTML representation is unable to render, please try loading this page with nbviewer.org.</b></div><div class=\"sk-container\" hidden><div class=\"sk-item\"><div class=\"sk-estimator sk-toggleable\"><input class=\"sk-toggleable__control sk-hidden--visually\" id=\"sk-estimator-id-1\" type=\"checkbox\" checked><label for=\"sk-estimator-id-1\" class=\"sk-toggleable__label sk-toggleable__label-arrow\">LinearRegression</label><div class=\"sk-toggleable__content\"><pre>LinearRegression()</pre></div></div></div></div></div>"
      ],
      "text/plain": [
       "LinearRegression()"
      ]
     },
     "execution_count": 19,
     "metadata": {},
     "output_type": "execute_result"
    }
   ],
   "source": [
    "#Fitting the regression object on the training set\n",
    "\n",
    "regression.fit(X_train, y_train)"
   ]
  },
  {
   "cell_type": "markdown",
   "id": "4cda3ada",
   "metadata": {},
   "source": [
    "##  Create a prediction for y on the test set"
   ]
  },
  {
   "cell_type": "code",
   "execution_count": 20,
   "id": "fa60aded",
   "metadata": {},
   "outputs": [],
   "source": [
    "# Predict values of y using X_test set\n",
    "\n",
    "y_predicted = regression.predict(X_test)"
   ]
  },
  {
   "cell_type": "markdown",
   "id": "dee45a1f",
   "metadata": {},
   "source": [
    "## 9.Create a plot that shows the regression line on the test set"
   ]
  },
  {
   "cell_type": "code",
   "execution_count": 40,
   "id": "00400608",
   "metadata": {},
   "outputs": [
    {
     "data": {
      "image/png": "[encoded data removed]",
      "text/plain": [
       "<Figure size 640x480 with 1 Axes>"
      ]
     },
     "metadata": {},
     "output_type": "display_data"
    }
   ],
   "source": [
    "\n",
    "\n",
    "\n",
    "# Create a plot that shows the regression line from the model on the test set.\n",
    "\n",
    "plot_test = plt\n",
    "plot_test.scatter(X_test, y_test, color='gray', s = 15)\n",
    "plot_test.plot(X_test, y_predicted, color='red', linewidth =3)\n",
    "plot_test.title('Weight vs BMI (Test set)')\n",
    "plot_test.xlabel('Weight in Kilograms')\n",
    "plot_test.ylabel('BMI')\n",
    "plt.savefig('linear_regression5.png')\n",
    "plot_test.show()"
   ]
  },
  {
   "cell_type": "markdown",
   "id": "c2460f31",
   "metadata": {},
   "source": [
    "## 10: Interpretation of regression line and data\n",
    "\n",
    "The linear model represented by the red regression line has a lot of data points closely clustered around this line with just some data points that are spread out which indicates for most cases as the Weight increases the BMI also increases.\n",
    "Although the data points were Weight is low and BMI is still high may contradict this positive correlation between BMI and Weight. These outliers suggest the presence of other influential factors beyond Weight alone in determining BMI or this could indicate a biased dataset. Despite these outliers, the overall trend suggests that, in general, as Weight increases, BMI also tends to increase."
   ]
  },
  {
   "cell_type": "markdown",
   "id": "b5822303",
   "metadata": {},
   "source": [
    "## 11.Check the model performance statistics—MSE and R2 score"
   ]
  },
  {
   "cell_type": "code",
   "execution_count": 22,
   "id": "3ef105ca",
   "metadata": {},
   "outputs": [],
   "source": [
    "# Create objects that contain the model summary statistics.\n",
    "\n",
    "rmse = mean_squared_error(y_test, y_predicted)\n",
    "r2 = r2_score(y_test, y_predicted) "
   ]
  },
  {
   "cell_type": "code",
   "execution_count": 23,
   "id": "21c774c5",
   "metadata": {},
   "outputs": [
    {
     "name": "stdout",
     "output_type": "stream",
     "text": [
      "Slope: [[0.26204635]]\n",
      "Mean squared error:  11.156798602773538\n",
      "R2 score:  0.7391948835550226\n"
     ]
    }
   ],
   "source": [
    "# Print the model summary statistics. This is where you evaluate the performance of the model.\n",
    "\n",
    "print('Slope:' ,regression.coef_)\n",
    "print('Mean squared error: ', rmse)\n",
    "print('R2 score: ', r2)"
   ]
  },
  {
   "cell_type": "markdown",
   "id": "d52a1cb6",
   "metadata": {},
   "source": [
    "## Slope:\n",
    "The positive slope value of approximately 0.262 indicates a direct positive relationship between Weight (X) and BMI (y), implying that as Weight increases, BMI tends to increase as well. This suggests a significant impact of Weight on BMI within the observed dataset.\n",
    "\n",
    "## RMSE\n",
    "The relatively low mean squared error (MSE) of approximately 11.16 suggests that the regression line closely aligns with the data points, indicating a strong fit of the model. Given the substantial size of the dataset, comprising 246,022 observations, this low RMSE value suggests the strong effect of  Weight and BMI. Thus, the model may reliably predict the influence of Weight on BMI within this dataset.\n",
    "\n",
    "## R2 Score:\n",
    "With an R2 score of approximately 0.739, the model explains approximately 73.9% of the variance in the dependent variable (BMI) based on the independent variable (Weight). This R2 score indicates a relatively strong fit of the regression model to the data, suggesting that Weight accounts for a considerable portion of the variability observed in BMI within the dataset."
   ]
  },
  {
   "cell_type": "markdown",
   "id": "f26576ba",
   "metadata": {},
   "source": [
    "## 12. Compare the predicted y values with the actual y values in a dataframe"
   ]
  },
  {
   "cell_type": "code",
   "execution_count": 24,
   "id": "36c940cd",
   "metadata": {},
   "outputs": [
    {
     "data": {
      "text/html": [
       "<div>\n",
       "<style scoped>\n",
       "    .dataframe tbody tr th:only-of-type {\n",
       "        vertical-align: middle;\n",
       "    }\n",
       "\n",
       "    .dataframe tbody tr th {\n",
       "        vertical-align: top;\n",
       "    }\n",
       "\n",
       "    .dataframe thead th {\n",
       "        text-align: right;\n",
       "    }\n",
       "</style>\n",
       "<table border=\"1\" class=\"dataframe\">\n",
       "  <thead>\n",
       "    <tr style=\"text-align: right;\">\n",
       "      <th></th>\n",
       "      <th>Actual</th>\n",
       "      <th>Predicted</th>\n",
       "    </tr>\n",
       "  </thead>\n",
       "  <tbody>\n",
       "    <tr>\n",
       "      <th>0</th>\n",
       "      <td>25.77</td>\n",
       "      <td>29.338624</td>\n",
       "    </tr>\n",
       "    <tr>\n",
       "      <th>1</th>\n",
       "      <td>27.44</td>\n",
       "      <td>24.585103</td>\n",
       "    </tr>\n",
       "    <tr>\n",
       "      <th>2</th>\n",
       "      <td>27.26</td>\n",
       "      <td>30.646236</td>\n",
       "    </tr>\n",
       "    <tr>\n",
       "      <th>3</th>\n",
       "      <td>34.01</td>\n",
       "      <td>28.151554</td>\n",
       "    </tr>\n",
       "    <tr>\n",
       "      <th>4</th>\n",
       "      <td>22.96</td>\n",
       "      <td>25.772173</td>\n",
       "    </tr>\n",
       "    <tr>\n",
       "      <th>5</th>\n",
       "      <td>27.81</td>\n",
       "      <td>26.010636</td>\n",
       "    </tr>\n",
       "    <tr>\n",
       "      <th>6</th>\n",
       "      <td>26.54</td>\n",
       "      <td>28.743779</td>\n",
       "    </tr>\n",
       "    <tr>\n",
       "      <th>7</th>\n",
       "      <td>21.02</td>\n",
       "      <td>25.179949</td>\n",
       "    </tr>\n",
       "    <tr>\n",
       "      <th>8</th>\n",
       "      <td>53.38</td>\n",
       "      <td>43.722348</td>\n",
       "    </tr>\n",
       "    <tr>\n",
       "      <th>9</th>\n",
       "      <td>39.31</td>\n",
       "      <td>36.589447</td>\n",
       "    </tr>\n",
       "    <tr>\n",
       "      <th>10</th>\n",
       "      <td>26.63</td>\n",
       "      <td>25.772173</td>\n",
       "    </tr>\n",
       "    <tr>\n",
       "      <th>11</th>\n",
       "      <td>22.96</td>\n",
       "      <td>25.772173</td>\n",
       "    </tr>\n",
       "    <tr>\n",
       "      <th>12</th>\n",
       "      <td>33.91</td>\n",
       "      <td>36.471526</td>\n",
       "    </tr>\n",
       "    <tr>\n",
       "      <th>13</th>\n",
       "      <td>22.60</td>\n",
       "      <td>23.395413</td>\n",
       "    </tr>\n",
       "    <tr>\n",
       "      <th>14</th>\n",
       "      <td>28.97</td>\n",
       "      <td>28.743779</td>\n",
       "    </tr>\n",
       "    <tr>\n",
       "      <th>15</th>\n",
       "      <td>32.28</td>\n",
       "      <td>30.528315</td>\n",
       "    </tr>\n",
       "    <tr>\n",
       "      <th>16</th>\n",
       "      <td>26.93</td>\n",
       "      <td>24.823566</td>\n",
       "    </tr>\n",
       "    <tr>\n",
       "      <th>17</th>\n",
       "      <td>31.00</td>\n",
       "      <td>27.556709</td>\n",
       "    </tr>\n",
       "    <tr>\n",
       "      <th>18</th>\n",
       "      <td>24.25</td>\n",
       "      <td>26.843943</td>\n",
       "    </tr>\n",
       "    <tr>\n",
       "      <th>19</th>\n",
       "      <td>25.80</td>\n",
       "      <td>28.743779</td>\n",
       "    </tr>\n",
       "    <tr>\n",
       "      <th>20</th>\n",
       "      <td>27.71</td>\n",
       "      <td>31.715385</td>\n",
       "    </tr>\n",
       "    <tr>\n",
       "      <th>21</th>\n",
       "      <td>20.60</td>\n",
       "      <td>21.018653</td>\n",
       "    </tr>\n",
       "    <tr>\n",
       "      <th>22</th>\n",
       "      <td>26.54</td>\n",
       "      <td>28.743779</td>\n",
       "    </tr>\n",
       "    <tr>\n",
       "      <th>23</th>\n",
       "      <td>26.95</td>\n",
       "      <td>25.415790</td>\n",
       "    </tr>\n",
       "    <tr>\n",
       "      <th>24</th>\n",
       "      <td>29.95</td>\n",
       "      <td>28.151554</td>\n",
       "    </tr>\n",
       "    <tr>\n",
       "      <th>25</th>\n",
       "      <td>51.49</td>\n",
       "      <td>42.414737</td>\n",
       "    </tr>\n",
       "    <tr>\n",
       "      <th>26</th>\n",
       "      <td>26.78</td>\n",
       "      <td>32.905075</td>\n",
       "    </tr>\n",
       "    <tr>\n",
       "      <th>27</th>\n",
       "      <td>22.67</td>\n",
       "      <td>25.536332</td>\n",
       "    </tr>\n",
       "    <tr>\n",
       "      <th>28</th>\n",
       "      <td>34.33</td>\n",
       "      <td>30.528315</td>\n",
       "    </tr>\n",
       "    <tr>\n",
       "      <th>29</th>\n",
       "      <td>21.29</td>\n",
       "      <td>23.395413</td>\n",
       "    </tr>\n",
       "  </tbody>\n",
       "</table>\n",
       "</div>"
      ],
      "text/plain": [
       "    Actual  Predicted\n",
       "0    25.77  29.338624\n",
       "1    27.44  24.585103\n",
       "2    27.26  30.646236\n",
       "3    34.01  28.151554\n",
       "4    22.96  25.772173\n",
       "5    27.81  26.010636\n",
       "6    26.54  28.743779\n",
       "7    21.02  25.179949\n",
       "8    53.38  43.722348\n",
       "9    39.31  36.589447\n",
       "10   26.63  25.772173\n",
       "11   22.96  25.772173\n",
       "12   33.91  36.471526\n",
       "13   22.60  23.395413\n",
       "14   28.97  28.743779\n",
       "15   32.28  30.528315\n",
       "16   26.93  24.823566\n",
       "17   31.00  27.556709\n",
       "18   24.25  26.843943\n",
       "19   25.80  28.743779\n",
       "20   27.71  31.715385\n",
       "21   20.60  21.018653\n",
       "22   26.54  28.743779\n",
       "23   26.95  25.415790\n",
       "24   29.95  28.151554\n",
       "25   51.49  42.414737\n",
       "26   26.78  32.905075\n",
       "27   22.67  25.536332\n",
       "28   34.33  30.528315\n",
       "29   21.29  23.395413"
      ]
     },
     "execution_count": 24,
     "metadata": {},
     "output_type": "execute_result"
    }
   ],
   "source": [
    "# Create a dataframe comparing the actual and predicted values of y.\n",
    "\n",
    "data = pd.DataFrame({'Actual': y_test.flatten(), 'Predicted': y_predicted.flatten()})\n",
    "data.head(30)"
   ]
  },
  {
   "cell_type": "markdown",
   "id": "6dc5064a",
   "metadata": {},
   "source": [
    "## Interpretation of BMI (y variable) actual and predicted values\n",
    "\n",
    "\n",
    "\n",
    "Predictions: \n",
    "For some instances the predicted BMI values are close to the actual BMI values. This suggests that the model is accurately capturing the relationship between the independent variable (Weight) and the dependent variable (BMI) for these data points.\n",
    "\n",
    "However, there are instances where the predicted BMI values deviate significantly from the actual BMI values (e.g., index 1, 3, 8, 9, 12, 15, 20, and 25). This could indicate possible errors or bias such as:measurement bias or collection bias in the model\n",
    "\n",
    "Overall, while the model appears to perform well for many data points, the discrepancies between actual and predicted BMI values may indicate the need for consideration of additional factors that may influence BMI beyond Weight alone."
   ]
  },
  {
   "cell_type": "markdown",
   "id": "c27a03b7",
   "metadata": {},
   "source": [
    "## 13. Interpretation on model performance and impact of possible data bias"
   ]
  },
  {
   "cell_type": "markdown",
   "id": "d78fd564",
   "metadata": {},
   "source": [
    "\n",
    "### Model Performance on Test Set\n",
    "\n",
    "The model generally performed well on the test set, accurately predicting BMI values for a most of the of the data points.  This indicated that the model effectively captured the relationship between Weight and BMI of the test data.\n",
    "\n",
    "However, there were instances where the model's predictions were different from the actual BMI values. These discrepancies suggest potential limitations or errors in the model, particularly in cases where the predicted BMI values diverged notably from the observed values. \n",
    "\n",
    "### Reflections on Data Bias\n",
    "\n",
    "Data bias may have influenced the model's performance, specifically if the data set disproportionately represents certain demographic groups related to ethinicity, age or socioeconomic background \n",
    "\n",
    "Bias may also arise if the data set excludes other variables that could impact BMI such as Diet or Genetics.\n",
    "\n",
    "Additionally, measurement bias in recording BMI can affect the dataset especially if standardization procedures, quality control measures, and the use of reliable measurement tools are not established.\n",
    "\n",
    "Therefore, addressing potential data bias and ensuring the inclusion of diverse and representative data can help improve the model's acuracy and applicability across various population groups."
   ]
  },
  {
   "cell_type": "code",
   "execution_count": null,
   "id": "a5748c74",
   "metadata": {},
   "outputs": [],
   "source": []
  }
 ],
 "metadata": {
  "kernelspec": {
   "display_name": "Python 3 (ipykernel)",
   "language": "python",
   "name": "python3"
  },
  "language_info": {
   "codemirror_mode": {
    "name": "ipython",
    "version": 3
   },
   "file_extension": ".py",
   "mimetype": "text/x-python",
   "name": "python",
   "nbconvert_exporter": "python",
   "pygments_lexer": "ipython3",
   "version": "3.11.5"
  }
 },
 "nbformat": 4,
 "nbformat_minor": 5
}
